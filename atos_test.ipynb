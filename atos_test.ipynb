{
  "nbformat": 4,
  "nbformat_minor": 0,
  "metadata": {
    "colab": {
      "provenance": [],
      "authorship_tag": "ABX9TyOUbZ60Kx78lovlMZ9N02D8",
      "include_colab_link": true
    },
    "kernelspec": {
      "name": "python3",
      "display_name": "Python 3"
    },
    "language_info": {
      "name": "python"
    }
  },
  "cells": [
    {
      "cell_type": "markdown",
      "metadata": {
        "id": "view-in-github",
        "colab_type": "text"
      },
      "source": [
        "<a href=\"https://colab.research.google.com/github/valery-burau-atos/Colab_Notebooks/blob/main/atos_test.ipynb\" target=\"_parent\"><img src=\"https://colab.research.google.com/assets/colab-badge.svg\" alt=\"Open In Colab\"/></a>"
      ]
    },
    {
      "cell_type": "code",
      "execution_count": null,
      "metadata": {
        "id": "9OEE-XyfewhW"
      },
      "outputs": [],
      "source": [
        "# it's a test file"
      ]
    },
    {
      "cell_type": "code",
      "source": [
        "blblgyfg"
      ],
      "metadata": {
        "id": "YZPn9W2khC5C"
      },
      "execution_count": null,
      "outputs": []
    },
    {
      "cell_type": "code",
      "source": [
        "rwaty"
      ],
      "metadata": {
        "id": "hiVftlUah89J"
      },
      "execution_count": null,
      "outputs": []
    }
  ]
}